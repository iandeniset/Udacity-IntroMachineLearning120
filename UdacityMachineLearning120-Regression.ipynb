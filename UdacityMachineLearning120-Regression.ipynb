{
 "cells": [
  {
   "cell_type": "markdown",
   "metadata": {},
   "source": [
    "# Udacity ML - Regression\n",
    "Notes on Machine Learning and regression based on Udacity's Introduction to Machine Learning Course.\n",
    "\n",
    "This notebook contains code used to answer the video lecture quizzes.\n",
    "\n",
    "#### Regression\n",
    "Regression is different from classification in the sense that the expected outputs are no longer descrete but continuous.  For example, instead of identifying a fish species (descrete) using attributes such as fin shape and color, regression aims to predict a fishes weight (continuous) based on age and species.\n",
    "\n",
    "#### The Data Set\n",
    "The data set being used is based on the [Enron scandal]('https://en.wikipedia.org/wiki/Enron_scandal) and is structured as nested dictionaries containing persons of interest and associated attributes.  The quiz questions are focused around attempting to predict a persons bonus based on other attributes such as salary using regression.\n",
    "\n",
    "##### Load and split the data set"
   ]
  },
  {
   "cell_type": "code",
   "execution_count": 1,
   "metadata": {
    "collapsed": false
   },
   "outputs": [],
   "source": [
    "import sys\n",
    "import numpy as np\n",
    "import pickle\n",
    "\n",
    "\n",
    "sys.path.append(\"../tools/\")\n",
    "from feature_format import featureFormat, targetFeatureSplit\n",
    "\n",
    "#load the data\n",
    "dictionary = pickle.load( open(\"../final_project/final_project_dataset_modified.pkl\", \"r\") )\n",
    "\n",
    "#split the data for target and features\n",
    "features_list = [\"bonus\", \"salary\"]\n",
    "data = featureFormat( dictionary, features_list, remove_any_zeroes=True)\n",
    "target, features = targetFeatureSplit( data )\n",
    "\n",
    "\n",
    "#split the data in to training and testing data\n",
    "from sklearn.cross_validation import train_test_split\n",
    "feature_train, feature_test, target_train, target_test = train_test_split(features,\n",
    "                                                                          target, test_size=0.5, random_state=42)\n",
    "train_color = \"b\"\n",
    "test_color = \"r\""
   ]
  },
  {
   "cell_type": "markdown",
   "metadata": {},
   "source": [
    "##### Plot the data"
   ]
  },
  {
   "cell_type": "code",
   "execution_count": 2,
   "metadata": {
    "collapsed": false
   },
   "outputs": [
    {
     "data": {
      "image/png": "[encoded data removed]",
      "text/plain": [
       "<matplotlib.figure.Figure at 0x10b2bf2d0>"
      ]
     },
     "metadata": {},
     "output_type": "display_data"
    }
   ],
   "source": [
    "import matplotlib.pyplot as plt\n",
    "%matplotlib inline\n",
    "\n",
    "\n",
    "for feature, target in zip(feature_test, target_test):\n",
    "    plt.scatter( feature, target, color=test_color ) \n",
    "for feature, target in zip(feature_train, target_train):\n",
    "    plt.scatter( feature, target, color=train_color ) \n",
    "\n",
    "plt.scatter(feature_test[0], target_test[0], color=test_color, label=\"test\")\n",
    "plt.scatter(feature_test[0], target_test[0], color=train_color, label=\"train\")\n",
    "plt.legend()\n",
    "\n",
    "plt.xlabel(features_list[1])\n",
    "plt.ylabel(features_list[0])\n",
    "plt.legend()\n",
    "plt.show()"
   ]
  },
  {
   "cell_type": "markdown",
   "metadata": {},
   "source": [
    "### Ordinary Least Squares\n",
    "[Scikit Learn](http://scikit-learn.org/stable/modules/linear_model.html#ordinary-least-squares) page on Ordinary Least Squares\n",
    "\n",
    "[Wiki](https://en.wikipedia.org/wiki/Ordinary_least_squares) page on Ordinary Least Squares \n",
    "\n",
    "Ordinary Least Squares is a generalized linear model, meaning it assumes a linear relation between the variables and attempts to fit the data by minimizing the sum of squared errors (SSE).  It should be noted though that the SSE approach is not perfect; two data sets with the same linear relation may produce different SSE values simply due to the fact one contains more data points than the other.\n",
    "\n",
    "To avoid possible issues with the SSE metric, the [R Squared](https://en.wikipedia.org/wiki/Coefficient_of_determination) value is usually used which provides insight in to how much of the change in output (y) is explained by the change in input (x).  The value has a range from 0 to 1 and is independent of the number of data points.  The larger the value the better the model is said to fit the data.  For example, an R squared value of 0.5 explains 50% of the variation in the data, while a value of 0.8 explains 80%.\n",
    "\n",
    "Note that it is possible to have R Squared values that are negative.  This occurs when the model does a worse job of fitting the data than a simple horizontal line.\n",
    "\n",
    "##### Train the model\n",
    "\n",
    "Train the linear model and plot the result on the data:"
   ]
  },
  {
   "cell_type": "code",
   "execution_count": 3,
   "metadata": {
    "collapsed": false
   },
   "outputs": [],
   "source": [
    "from sklearn import linear_model\n",
    "reg = linear_model.LinearRegression()\n",
    "reg.fit(feature_train, target_train)\n",
    "pred = reg.predict(feature_test)"
   ]
  },
  {
   "cell_type": "code",
   "execution_count": 4,
   "metadata": {
    "collapsed": false
   },
   "outputs": [
    {
     "data": {
      "image/png": "[encoded data removed]",
      "text/plain": [
       "<matplotlib.figure.Figure at 0x111f59490>"
      ]
     },
     "metadata": {},
     "output_type": "display_data"
    }
   ],
   "source": [
    "for feature, target in zip(feature_test, target_test):\n",
    "    plt.scatter( feature, target, color=test_color ) \n",
    "for feature, target in zip(feature_train, target_train):\n",
    "    plt.scatter( feature, target, color=train_color ) \n",
    "\n",
    "plt.scatter(feature_test[0], target_test[0], color=test_color, label=\"test\")\n",
    "plt.scatter(feature_test[0], target_test[0], color=train_color, label=\"train\")\n",
    "\n",
    "plt.plot(feature_test, reg.predict(feature_test))\n",
    "\n",
    "plt.xlabel(features_list[1])\n",
    "plt.ylabel(features_list[0])\n",
    "plt.legend()\n",
    "plt.show()"
   ]
  },
  {
   "cell_type": "markdown",
   "metadata": {},
   "source": [
    "As can be seen, the model does not do a very good job of fitting the data.  In particular the outliers are causing issues.\n",
    "\n",
    "##### Quiz Answers"
   ]
  },
  {
   "cell_type": "code",
   "execution_count": 5,
   "metadata": {
    "collapsed": false
   },
   "outputs": [
    {
     "name": "stdout",
     "output_type": "stream",
     "text": [
      "('The coefficient or slope of the linear regression is: ', array([ 5.44814029]))\n",
      "('The intercept of the linear regression is: ', -102360.54329388007)\n"
     ]
    }
   ],
   "source": [
    "#find the slope and intercept of the line\n",
    "print('The coefficient or slope of the linear regression is: ', reg.coef_)\n",
    "print('The intercept of the linear regression is: ', reg.intercept_)"
   ]
  },
  {
   "cell_type": "code",
   "execution_count": 6,
   "metadata": {
    "collapsed": false
   },
   "outputs": [
    {
     "name": "stdout",
     "output_type": "stream",
     "text": [
      "('The score of the linear fit is: ', 0.045509192699524359)\n"
     ]
    }
   ],
   "source": [
    "#find the 'score' or R^2 value by comparing the training data to the target values\n",
    "#note this is NOT the proper way, should compared with data not used in training\n",
    "print('The score of the linear fit is: ', reg.score(feature_train,target_train))"
   ]
  },
  {
   "cell_type": "code",
   "execution_count": 7,
   "metadata": {
    "collapsed": false
   },
   "outputs": [
    {
     "name": "stdout",
     "output_type": "stream",
     "text": [
      "('The score of the linear fit is: ', -1.484992417368511)\n"
     ]
    }
   ],
   "source": [
    "#find the true R^2 value by comparing the test features and test targets\n",
    "print('The score of the linear fit is: ', reg.score(feature_test, target_test))"
   ]
  },
  {
   "cell_type": "markdown",
   "metadata": {
    "collapsed": true
   },
   "source": [
    "### Now run the code above for Long Term Incentive vs Bonus\n",
    "\n",
    "##### Load, split, and plot the data"
   ]
  },
  {
   "cell_type": "code",
   "execution_count": 8,
   "metadata": {
    "collapsed": true
   },
   "outputs": [],
   "source": [
    "features_list2 = [\"bonus\", \"long_term_incentive\"]\n",
    "data2 = featureFormat( dictionary, features_list2, remove_any_zeroes=True)\n",
    "target2, features2 = targetFeatureSplit( data2 )\n",
    "\n",
    "#split the data\n",
    "from sklearn.cross_validation import train_test_split\n",
    "feature_train2, feature_test2, target_train2, target_test2 = train_test_split(features2, target2, test_size=0.5,\n",
    "                                                                              random_state=42)\n",
    "train_color = \"b\"\n",
    "test_color = \"r\""
   ]
  },
  {
   "cell_type": "code",
   "execution_count": 9,
   "metadata": {
    "collapsed": false
   },
   "outputs": [
    {
     "data": {
      "image/png": "[encoded data removed]",
      "text/plain": [
       "<matplotlib.figure.Figure at 0x111f59050>"
      ]
     },
     "metadata": {},
     "output_type": "display_data"
    }
   ],
   "source": [
    "for feature2, target2 in zip(feature_test2, target_test2):\n",
    "    plt.scatter( feature2, target2, color=test_color ) \n",
    "for feature2, target2 in zip(feature_train2, target_train2):\n",
    "    plt.scatter( feature2, target2, color=train_color ) \n",
    "    \n",
    "plt.scatter(feature_test2[0], target_test2[0], color=test_color, label=\"test\")\n",
    "plt.scatter(feature_test2[0], target_test2[0], color=train_color, label=\"train\")   \n",
    "\n",
    "plt.xlabel(features_list2[1])\n",
    "plt.ylabel(features_list2[0])\n",
    "plt.legend()\n",
    "plt.show()"
   ]
  },
  {
   "cell_type": "markdown",
   "metadata": {},
   "source": [
    "#### Train the model"
   ]
  },
  {
   "cell_type": "code",
   "execution_count": 10,
   "metadata": {
    "collapsed": true
   },
   "outputs": [],
   "source": [
    "from sklearn import linear_model\n",
    "reg2 = linear_model.LinearRegression()\n",
    "reg2.fit(feature_train2, target_train2)\n",
    "pred2 = reg.predict(feature_test2)"
   ]
  },
  {
   "cell_type": "code",
   "execution_count": 11,
   "metadata": {
    "collapsed": false
   },
   "outputs": [
    {
     "data": {
      "image/png": "[encoded data removed]",
      "text/plain": [
       "<matplotlib.figure.Figure at 0x111a284d0>"
      ]
     },
     "metadata": {},
     "output_type": "display_data"
    }
   ],
   "source": [
    "for feature2, target2 in zip(feature_test2, target_test2):\n",
    "    plt.scatter( feature2, target2, color=test_color ) \n",
    "for feature2, target2 in zip(feature_train2, target_train2):\n",
    "    plt.scatter( feature2, target2, color=train_color ) \n",
    "\n",
    "plt.scatter(feature_test2[0], target_test2[0], color=test_color, label=\"test\")\n",
    "plt.scatter(feature_test2[0], target_test2[0], color=train_color, label=\"train\")\n",
    "\n",
    "plt.plot( feature_test2, reg2.predict(feature_test2) )\n",
    "\n",
    "plt.xlabel(features_list2[1])\n",
    "plt.ylabel(features_list2[0])\n",
    "plt.legend()\n",
    "plt.show()"
   ]
  },
  {
   "cell_type": "code",
   "execution_count": 12,
   "metadata": {
    "collapsed": false
   },
   "outputs": [
    {
     "name": "stdout",
     "output_type": "stream",
     "text": [
      "('The score of the linear fit is for LTI vs Bonus is: ', -0.59271289994986431)\n"
     ]
    }
   ],
   "source": [
    "#find the true R^2 value\n",
    "print('The score of the linear fit is for LTI vs Bonus is: ', reg2.score(feature_test2, target_test2))"
   ]
  },
  {
   "cell_type": "markdown",
   "metadata": {
    "collapsed": true
   },
   "source": [
    "Here, it is obvious that the 'long term incentive' feature is much better at predicting a persons bonus."
   ]
  }
 ],
 "metadata": {
  "anaconda-cloud": {},
  "kernelspec": {
   "display_name": "Python [py27]",
   "language": "python",
   "name": "Python [py27]"
  },
  "language_info": {
   "codemirror_mode": {
    "name": "ipython",
    "version": 2
   },
   "file_extension": ".py",
   "mimetype": "text/x-python",
   "name": "python",
   "nbconvert_exporter": "python",
   "pygments_lexer": "ipython2",
   "version": "2.7.12"
  }
 },
 "nbformat": 4,
 "nbformat_minor": 0
}
