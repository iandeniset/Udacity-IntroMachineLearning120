{
 "cells": [
  {
   "cell_type": "markdown",
   "metadata": {},
   "source": [
    "# Machine Learning - Outliers\n",
    "Notes on Machine Learning and outliers based on Udacity's Introduction to Machine Learning course.\n",
    "\n",
    "##### What Causes Outliers?\n",
    "<li> Sensor malfunction </li>\n",
    "<li> Freak events </li>\n",
    "<li> Data entry error </li>\n",
    "<li> ...and much more </li>\n",
    "\n",
    "##### So how are outliers dealt with?\n",
    "The basic strategy look like this:\n",
    "1. Train the regression with the outliers in the data\n",
    "2. Calculate the error between the actual values and the predicted values\n",
    "3. Remove 10% of the total data points which have the largest error\n",
    "4. Train the regression again and investigate\n",
    "5. Repeat as necessary\n",
    "\n",
    "###### Below are a few examples of identifying and removing outlier points from a data set:"
   ]
  },
  {
   "cell_type": "code",
   "execution_count": 1,
   "metadata": {
    "collapsed": false
   },
   "outputs": [
    {
     "name": "stdout",
     "output_type": "stream",
     "text": [
      "/Users/IanDeniset/Documents/Courses/Udacity_IntroML/ud120-projects/outliers\n"
     ]
    }
   ],
   "source": [
    "import random\n",
    "import numpy\n",
    "import matplotlib.pyplot as plt\n",
    "%matplotlib inline\n",
    "import pickle\n",
    "\n",
    "%cd /Users/IanDeniset/Documents/Courses/Udacity_IntroML/ud120-projects/outliers"
   ]
  },
  {
   "cell_type": "markdown",
   "metadata": {},
   "source": [
    "#### Load and prepare the data"
   ]
  },
  {
   "cell_type": "code",
   "execution_count": 2,
   "metadata": {
    "collapsed": false
   },
   "outputs": [],
   "source": [
    "#load up practice data with outliers in it\n",
    "ages = pickle.load(open(\"practice_outliers_ages.pkl\", \"r\"))\n",
    "net_worths = pickle.load(open(\"practice_outliers_net_worths.pkl\", \"r\"))"
   ]
  },
  {
   "cell_type": "code",
   "execution_count": 3,
   "metadata": {
    "collapsed": false
   },
   "outputs": [],
   "source": [
    "#ages and net_worths need to be reshaped into 2D numpy arrays\n",
    "ages = numpy.reshape(numpy.array(ages), (len(ages), 1))\n",
    "net_worths = numpy.reshape(numpy.array(net_worths), (len(net_worths), 1))"
   ]
  },
  {
   "cell_type": "code",
   "execution_count": 4,
   "metadata": {
    "collapsed": true
   },
   "outputs": [],
   "source": [
    "#split the data into train and test sets\n",
    "from sklearn.cross_validation import train_test_split\n",
    "ages_train, ages_test, net_worths_train, net_worths_test = train_test_split(ages,\n",
    "                                                                            net_worths, test_size=0.1, random_state=42)"
   ]
  },
  {
   "cell_type": "markdown",
   "metadata": {},
   "source": [
    "#### Create, train, and predict with Linear Regression "
   ]
  },
  {
   "cell_type": "code",
   "execution_count": 5,
   "metadata": {
    "collapsed": false
   },
   "outputs": [],
   "source": [
    "from sklearn import linear_model\n",
    "reg = linear_model.LinearRegression()\n",
    "reg.fit(ages_train, net_worths_train)\n",
    "pred = reg.predict(ages_test)"
   ]
  },
  {
   "cell_type": "code",
   "execution_count": 6,
   "metadata": {
    "collapsed": false
   },
   "outputs": [
    {
     "data": {
      "image/png": "[encoded data removed]",
      "text/plain": [
       "<matplotlib.figure.Figure at 0x110fc1150>"
      ]
     },
     "metadata": {},
     "output_type": "display_data"
    }
   ],
   "source": [
    "#plot the data and regression line\n",
    "plt.plot(ages, reg.predict(ages), color=\"blue\", alpha=0.5)\n",
    "plt.scatter(ages, net_worths)\n",
    "plt.plot(ages_test, reg.predict(ages_test), color='r', alpha=0.5)\n",
    "plt.scatter(ages_test, net_worths_test, color='r')\n",
    "plt.xlabel('Age')\n",
    "plt.ylabel('Net Worth')\n",
    "plt.show()"
   ]
  },
  {
   "cell_type": "markdown",
   "metadata": {},
   "source": [
    "As can be seen, there are a large number of outliers that are causing a poor fit of the data.  Before we remove the data, let's take a look at the slope and the R^2 value for the current regression:"
   ]
  },
  {
   "cell_type": "code",
   "execution_count": 7,
   "metadata": {
    "collapsed": false
   },
   "outputs": [
    {
     "name": "stdout",
     "output_type": "stream",
     "text": [
      "('The coefficient or slope of the linear regression is: ', array([[ 5.07793064]]))\n",
      "('The intercept of the linear regression is: ', array([ 25.21002155]))\n"
     ]
    }
   ],
   "source": [
    "#find the slope and intercept of the line\n",
    "print('The coefficient or slope of the linear regression is: ', reg.coef_)\n",
    "print('The intercept of the linear regression is: ', reg.intercept_)"
   ]
  },
  {
   "cell_type": "code",
   "execution_count": 8,
   "metadata": {
    "collapsed": false
   },
   "outputs": [
    {
     "name": "stdout",
     "output_type": "stream",
     "text": [
      "('The score of the linear fit is: ', 0.8782624703664671)\n"
     ]
    }
   ],
   "source": [
    "#find the true R^2 value by comparing the test features and test targets\n",
    "print('The score of the linear fit is: ', reg.score(ages_test, net_worths_test))"
   ]
  },
  {
   "cell_type": "markdown",
   "metadata": {},
   "source": [
    "### Remove outliers and rerun the regression\n",
    "\n",
    "Create a function that will load in the predicted values from the previous regression, calculate the error between the true values and the predicted ones then discard 10% of the points with the highest error:"
   ]
  },
  {
   "cell_type": "code",
   "execution_count": 9,
   "metadata": {
    "collapsed": true
   },
   "outputs": [],
   "source": [
    "def outlierCleaner(predictions, ages, net_worths):\n",
    "    \"\"\"\n",
    "        Clean away the 10% of points that have the largest\n",
    "        residual errors (difference between the prediction\n",
    "        and the actual net worth).\n",
    "\n",
    "        Return a list of tuples named cleaned_data where \n",
    "        each tuple is of the form (age, net_worth, error).\n",
    "    \"\"\"\n",
    "    \n",
    "    cleaned_data = []\n",
    "    \n",
    "    #calculate absolute error\n",
    "    err = abs(predictions - net_worths)\n",
    "    #zip combines lists to tuples\n",
    "    data = zip(ages, net_worths, err)\n",
    "    #sort the data by error\n",
    "    data_sorted = sorted(data, key=lambda index: index[2])\n",
    "    \n",
    "    cleaned_data = data_sorted[:80]\n",
    "    \n",
    "    return cleaned_data"
   ]
  },
  {
   "cell_type": "markdown",
   "metadata": {},
   "source": [
    "##### Run the function to remove the outliers"
   ]
  },
  {
   "cell_type": "code",
   "execution_count": 10,
   "metadata": {
    "collapsed": false
   },
   "outputs": [],
   "source": [
    "predictions = reg.predict(ages_train)\n",
    "cleaned_data = outlierCleaner(predictions, ages_train, net_worths_train)"
   ]
  },
  {
   "cell_type": "markdown",
   "metadata": {},
   "source": [
    "##### Run the linear regression on the cleaned data"
   ]
  },
  {
   "cell_type": "code",
   "execution_count": 11,
   "metadata": {
    "collapsed": false
   },
   "outputs": [
    {
     "data": {
      "image/png": "[encoded data removed]",
      "text/plain": [
       "<matplotlib.figure.Figure at 0x1116bc890>"
      ]
     },
     "metadata": {},
     "output_type": "display_data"
    }
   ],
   "source": [
    "ages_clean, net_worths_clean, errors = zip(*cleaned_data)\n",
    "ages_clean = numpy.reshape( numpy.array(ages_clean), (len(ages_clean), 1))\n",
    "net_worths_clean = numpy.reshape(numpy.array(net_worths_clean), (len(net_worths_clean), 1))\n",
    "\n",
    "### refit your cleaned data!\n",
    "reg_clean = linear_model.LinearRegression()\n",
    "reg_clean.fit(ages_clean, net_worths_clean)\n",
    "\n",
    "#plot the new data fit\n",
    "plt.plot(ages_clean, reg_clean.predict(ages_clean), color=\"blue\")\n",
    "plt.scatter(ages_clean, net_worths_clean)\n",
    "plt.plot(ages_test, pred, color='r', alpha=0.5)\n",
    "plt.scatter(ages, net_worths, color='r', alpha=0.25)\n",
    "plt.xlabel(\"ages\")\n",
    "plt.ylabel(\"net worths\")\n",
    "plt.show()"
   ]
  },
  {
   "cell_type": "markdown",
   "metadata": {},
   "source": [
    "As expected, the fit of the linear regression after removing some of the outliers is much better.  Let's calculate some metrics below to see just how much better the fit is:"
   ]
  },
  {
   "cell_type": "code",
   "execution_count": 12,
   "metadata": {
    "collapsed": false
   },
   "outputs": [
    {
     "name": "stdout",
     "output_type": "stream",
     "text": [
      "('The coefficient or slope of the linear regression is: ', array([[ 5.07793064]]))\n",
      "('The intercept of the linear regression is: ', array([ 25.21002155]))\n",
      "('The score of the linear fit is: ', 0.8782624703664671)\n"
     ]
    }
   ],
   "source": [
    "#find the slope and intercept of the line\n",
    "print('The coefficient or slope of the linear regression is: ', reg.coef_)\n",
    "print('The intercept of the linear regression is: ', reg.intercept_)\n",
    "\n",
    "#find the true R^2 value by comparing the test features and test targets\n",
    "print('The score of the linear fit is: ', reg.score(ages_test, net_worths_test))"
   ]
  },
  {
   "cell_type": "markdown",
   "metadata": {},
   "source": [
    "### Looking at Enron Data Outliers"
   ]
  },
  {
   "cell_type": "code",
   "execution_count": 13,
   "metadata": {
    "collapsed": false
   },
   "outputs": [
    {
     "data": {
      "image/png": "[encoded data removed]",
      "text/plain": [
       "<matplotlib.figure.Figure at 0x11177a250>"
      ]
     },
     "metadata": {},
     "output_type": "display_data"
    }
   ],
   "source": [
    "import sys\n",
    "import matplotlib.pyplot\n",
    "sys.path.append(\"../tools/\")\n",
    "from feature_format import featureFormat, targetFeatureSplit\n",
    "\n",
    "\n",
    "#read in data dictionary, convert to numpy array\n",
    "data_dict = pickle.load( open(\"../final_project/final_project_dataset.pkl\", \"r\") )\n",
    "features = [\"salary\", \"bonus\"]\n",
    "data = featureFormat(data_dict, features)\n",
    "\n",
    "\n",
    "for point in data:\n",
    "    salary = point[0]\n",
    "    bonus = point[1]\n",
    "    matplotlib.pyplot.scatter( salary, bonus )\n",
    "\n",
    "matplotlib.pyplot.xlabel(\"salary\")\n",
    "matplotlib.pyplot.ylabel(\"bonus\")\n",
    "matplotlib.pyplot.show()"
   ]
  },
  {
   "cell_type": "markdown",
   "metadata": {},
   "source": [
    "Well that's a pretty big outlier.  Turns out it's the TOTAL value from the spreadsheet.  Let's remove it and re plot the data:"
   ]
  },
  {
   "cell_type": "code",
   "execution_count": 14,
   "metadata": {
    "collapsed": false
   },
   "outputs": [
    {
     "data": {
      "image/png": "[encoded data removed]",
      "text/plain": [
       "<matplotlib.figure.Figure at 0x10e9f1350>"
      ]
     },
     "metadata": {},
     "output_type": "display_data"
    }
   ],
   "source": [
    "#remove the key 'TOTAL'\n",
    "data_dict.pop('TOTAL',0)\n",
    "\n",
    "data_noTOTAL = featureFormat(data_dict, features)\n",
    "\n",
    "for point in data_noTOTAL:\n",
    "    salary = point[0]\n",
    "    bonus = point[1]\n",
    "    matplotlib.pyplot.scatter( salary, bonus )\n",
    "\n",
    "matplotlib.pyplot.xlabel(\"salary\")\n",
    "matplotlib.pyplot.ylabel(\"bonus\")\n",
    "matplotlib.pyplot.show()"
   ]
  },
  {
   "cell_type": "markdown",
   "metadata": {},
   "source": [
    "Let's identify those people who made a salary over 1 million and bonus of 5 million:"
   ]
  },
  {
   "cell_type": "code",
   "execution_count": 15,
   "metadata": {
    "collapsed": false
   },
   "outputs": [
    {
     "name": "stdout",
     "output_type": "stream",
     "text": [
      "LAY KENNETH L 1072321 7000000\n",
      "SKILLING JEFFREY K 1111258 5600000\n"
     ]
    }
   ],
   "source": [
    "for poi in data_dict.keys():\n",
    "    if (data_dict[poi]['salary'] > 1000000) and (data_dict[poi]['bonus'] > 5000000):\n",
    "        if (data_dict[poi]['salary'] != 'NaN') and (data_dict[poi]['bonus'] != 'NaN'):\n",
    "            print poi, data_dict[poi]['salary'], data_dict[poi]['bonus']"
   ]
  }
 ],
 "metadata": {
  "anaconda-cloud": {},
  "kernelspec": {
   "display_name": "Python [py27]",
   "language": "python",
   "name": "Python [py27]"
  },
  "language_info": {
   "codemirror_mode": {
    "name": "ipython",
    "version": 2
   },
   "file_extension": ".py",
   "mimetype": "text/x-python",
   "name": "python",
   "nbconvert_exporter": "python",
   "pygments_lexer": "ipython2",
   "version": "2.7.12"
  }
 },
 "nbformat": 4,
 "nbformat_minor": 0
}
