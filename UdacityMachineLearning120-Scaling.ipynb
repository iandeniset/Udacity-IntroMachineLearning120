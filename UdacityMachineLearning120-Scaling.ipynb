{
 "cells": [
  {
   "cell_type": "markdown",
   "metadata": {},
   "source": [
    "# Machine Learning - Feature Scaling\n",
    "\n",
    "Notes and examples from Udacity's Introduction to Machine Learning Course.\n",
    "\n",
    "## Feature Scaling\n",
    "\n",
    "[Wiki](https://en.wikipedia.org/wiki/Feature_scaling) page on feature scaling.\n",
    "\n",
    "[SciKit Learn](http://scikit-learn.org/stable/modules/preprocessing.html#preprocessing-scaler) page on feature scaling.\n",
    "\n",
    "Feature scaling is the practice of normalizing the value range of each features data between (usually) 0 and 1.  This is done to avoid bias in certain algorithms caused by one or more features having a large range of values in comparison to others.\n",
    "\n",
    "The simplest form of scaling or normalization is achieved as follows:\n",
    "\n",
    "$$ x' = \\frac{x-x_{min}}{x_{max}-x_{min}} $$\n",
    "\n",
    "where **x'** is the new normalized value, **x** is the original data point value, and **x max/min** are the features maximum and minimum values.\n",
    "\n",
    "Looking at the equation above, it can be seen that removal of outliers (with extreme values) should be removed before scaling to avoid erroneous normalization results.\n",
    "\n",
    "It should be noted that not all M.L. algorithms are sensitive to unscaled values.  For example, while K-Means and SVM with an rbf kernel will experience issues, both Decision Trees and Linear Regression will not.\n",
    "\n",
    "### Applications to Enron Data"
   ]
  },
  {
   "cell_type": "code",
   "execution_count": 1,
   "metadata": {
    "collapsed": true
   },
   "outputs": [],
   "source": [
    "import pickle\n",
    "import numpy as np\n",
    "import matplotlib.pyplot as plt\n",
    "%matplotlib inline"
   ]
  },
  {
   "cell_type": "markdown",
   "metadata": {},
   "source": [
    "#### Load in the data, remove outliers, then plot"
   ]
  },
  {
   "cell_type": "code",
   "execution_count": 2,
   "metadata": {
    "collapsed": false
   },
   "outputs": [
    {
     "name": "stdout",
     "output_type": "stream",
     "text": [
      "/Users/IanDeniset/Documents/Courses/Udacity_IntroML/ud120-projects/tools\n"
     ]
    },
    {
     "data": {
      "image/png": "[encoded data removed]",
      "text/plain": [
       "<matplotlib.figure.Figure at 0x10c9914d0>"
      ]
     },
     "metadata": {},
     "output_type": "display_data"
    }
   ],
   "source": [
    "%cd /Users/IanDeniset/Documents/Courses/Udacity_IntroML/ud120-projects/tools\n",
    "from feature_format import featureFormat, targetFeatureSplit\n",
    "\n",
    "#load in the dict of dicts containing all the data on each person in the dataset\n",
    "data_dict = pickle.load( open(\"../final_project/final_project_dataset.pkl\", \"r\") )\n",
    "\n",
    "#there's an outlier--remove it! \n",
    "data_dict.pop(\"TOTAL\", 0);\n",
    "\n",
    "feature_1 = \"salary\"\n",
    "feature_2 = \"exercised_stock_options\"\n",
    "poi  = \"poi\"\n",
    "features_list = [poi, feature_1, feature_2]\n",
    "data = featureFormat(data_dict, features_list )\n",
    "poi, finance_features = targetFeatureSplit( data )\n",
    "\n",
    "\n",
    "for f1, f2 in finance_features:\n",
    "    plt.scatter( f1, f2 )\n",
    "plt.show()"
   ]
  },
  {
   "cell_type": "markdown",
   "metadata": {},
   "source": [
    "#### Scale the data with MinMaxScaler and plot"
   ]
  },
  {
   "cell_type": "code",
   "execution_count": 3,
   "metadata": {
    "collapsed": false
   },
   "outputs": [
    {
     "name": "stdout",
     "output_type": "stream",
     "text": [
      "The scaled values are:  [ 0.17997621  0.02911345]\n"
     ]
    },
    {
     "name": "stderr",
     "output_type": "stream",
     "text": [
      "/Users/IanDeniset/anaconda/envs/py27/lib/python2.7/site-packages/sklearn/preprocessing/data.py:359: DeprecationWarning: Passing 1d arrays as data is deprecated in 0.17 and will raise ValueError in 0.19. Reshape your data either using X.reshape(-1, 1) if your data has a single feature or X.reshape(1, -1) if it contains a single sample.\n",
      "  warnings.warn(DEPRECATION_MSG_1D, DeprecationWarning)\n"
     ]
    }
   ],
   "source": [
    "from sklearn import preprocessing\n",
    "\n",
    "#note that the MinMaxScaler will be applied to features individually, not to all combined values in the list\n",
    "scalerfunc = preprocessing.MinMaxScaler()\n",
    "scaled_features = scalerfunc.fit_transform(finance_features)\n",
    "\n",
    "#calculate scaled values for new salary and  exercised_stock_option values\n",
    "#using .transform\n",
    "print 'The scaled values are: ', scalerfunc.transform([200000.,1000000.])"
   ]
  },
  {
   "cell_type": "code",
   "execution_count": 4,
   "metadata": {
    "collapsed": false
   },
   "outputs": [
    {
     "data": {
      "image/png": "[encoded data removed]",
      "text/plain": [
       "<matplotlib.figure.Figure at 0x10c971b90>"
      ]
     },
     "metadata": {},
     "output_type": "display_data"
    }
   ],
   "source": [
    "#plot the data\n",
    "plt.scatter(scaled_features[:,0], scaled_features[:,1])\n",
    "plt.show()"
   ]
  }
 ],
 "metadata": {
  "anaconda-cloud": {},
  "kernelspec": {
   "display_name": "Python [py27]",
   "language": "python",
   "name": "Python [py27]"
  },
  "language_info": {
   "codemirror_mode": {
    "name": "ipython",
    "version": 2
   },
   "file_extension": ".py",
   "mimetype": "text/x-python",
   "name": "python",
   "nbconvert_exporter": "python",
   "pygments_lexer": "ipython2",
   "version": "2.7.12"
  }
 },
 "nbformat": 4,
 "nbformat_minor": 0
}
