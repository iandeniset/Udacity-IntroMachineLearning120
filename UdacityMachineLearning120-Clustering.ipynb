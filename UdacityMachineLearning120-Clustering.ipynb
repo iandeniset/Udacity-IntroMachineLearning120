{
 "cells": [
  {
   "cell_type": "markdown",
   "metadata": {},
   "source": [
    "# Machine Learning - Clustering\n",
    "\n",
    "Notes and examples from Udacity's Introduction to Machine Learning Course.\n",
    "\n",
    "## Clustering\n",
    "Clustering is a form of unsupervised learning, meaning that the input data does not contain features and labels associated to it.  The objective therefore, is to identify groups or classes of like data centered around a common point, or centroid, which define distinct clusters that can then be used to identify potentially similar data added later. \n",
    "\n",
    "One of the most popular algorithms for clustering is K-means.\n",
    "\n",
    "### K-Means\n",
    "\n",
    "[Scikit Learn](http://scikit-learn.org/stable/modules/clustering.html#k-means) page on K-Means\n",
    "\n",
    "[Wiki](https://en.wikipedia.org/wiki/K-means_clustering) page on K-Means\n",
    "\n",
    "[K-Means visualization](http://www.naftaliharris.com/blog/visualizing-k-means-clustering/) page\n",
    "\n",
    "The K-Means algorithm works by optimizing the placement of a specified number of centroids within a data set to effectively classify like data points.  This is achieved by minimizing the inertia, or within cluster sum of squares error, which is a measure of how coherent each cluster is.\n",
    "\n",
    "Although very powerful, the K-Means algorithm has a few drawbacks that need to be kept in mind.  First, is that it assumes the data clusters are isotropic, it does not handle elongate and anisotropic data well.  Second, and most importantly, since it is a hill climbing method the algorithm has potential to get stuck in local minimum and is thus very sensitive to the initial placements of the centroids.  It is very easy and possible to arrive at an incorrect solution that mathematically makes sense; multiple starting positions need to be explored.\n",
    "\n",
    "#### Parameters to Optimize\n",
    "**'n_clusters'**: this is the most important parameter, it sets the number of clusters for the data; default is 8\n",
    "\n",
    "**'max_iter'**: this is the number of times the algorithm will move each centroid in an attempt to minimize the inertia; the default value of 300 is usually good\n",
    "\n",
    "**'n_int'**: this is the number of times the algorithm will be rerun with new initial centroid starting locations; default is 10\n",
    "\n",
    "\n",
    "### Exploring the Enron Dataset With K-Means\n",
    "\n"
   ]
  },
  {
   "cell_type": "code",
   "execution_count": 1,
   "metadata": {
    "collapsed": false
   },
   "outputs": [
    {
     "name": "stdout",
     "output_type": "stream",
     "text": [
      "/Users/IanDeniset/Documents/Courses/Udacity_IntroML/ud120-projects/tools\n"
     ]
    }
   ],
   "source": [
    "import pickle\n",
    "import numpy\n",
    "import matplotlib.pyplot as plt\n",
    "%matplotlib inline\n",
    "import sys\n",
    "%cd /Users/IanDeniset/Documents/Courses/Udacity_IntroML/ud120-projects/tools\n",
    "#sys.path.append(\"../tools/\")\n",
    "from feature_format import featureFormat, targetFeatureSplit"
   ]
  },
  {
   "cell_type": "markdown",
   "metadata": {},
   "source": [
    "#### Define a function for plotting the data and clusters"
   ]
  },
  {
   "cell_type": "code",
   "execution_count": 2,
   "metadata": {
    "collapsed": true
   },
   "outputs": [],
   "source": [
    "def Draw(pred, features, poi, mark_poi=False, name=\"image.png\", f1_name=\"feature 1\", f2_name=\"feature 2\"):\n",
    "    \"\"\" some plotting code designed to help you visualize your clusters \"\"\"\n",
    "\n",
    "    #plot each cluster with a different color--add more colors for drawing more than five clusters\n",
    "    colors = [\"b\", \"c\", \"k\", \"m\", \"g\"]\n",
    "    for ii, pp in enumerate(pred):\n",
    "        plt.scatter(features[ii][0], features[ii][1], color = colors[pred[ii]])\n",
    "\n",
    "    #if you like, place red stars over points that are POIs (just for funsies)\n",
    "    if mark_poi:\n",
    "        for ii, pp in enumerate(pred):\n",
    "            if poi[ii]:\n",
    "                plt.scatter(features[ii][0], features[ii][1], color=\"r\", marker=\"*\")\n",
    "    plt.xlabel(f1_name)\n",
    "    plt.ylabel(f2_name)\n",
    "    plt.savefig(name)\n",
    "    plt.show()"
   ]
  },
  {
   "cell_type": "markdown",
   "metadata": {},
   "source": [
    "#### Load, clean, format, and plot the data"
   ]
  },
  {
   "cell_type": "code",
   "execution_count": 3,
   "metadata": {
    "collapsed": false
   },
   "outputs": [
    {
     "data": {
      "image/png": "[encoded data removed]",
      "text/plain": [
       "<matplotlib.figure.Figure at 0x10c992250>"
      ]
     },
     "metadata": {},
     "output_type": "display_data"
    }
   ],
   "source": [
    "#load in the dict of dicts containing all the data on each person in the dataset\n",
    "data_dict = pickle.load( open(\"../final_project/final_project_dataset.pkl\", \"r\") )\n",
    "\n",
    "#there's an outlier--remove it! \n",
    "data_dict.pop(\"TOTAL\", 0)\n",
    "\n",
    "\n",
    "feature_1 = \"salary\"\n",
    "feature_2 = \"exercised_stock_options\"\n",
    "poi  = \"poi\"\n",
    "features_list = [poi, feature_1, feature_2]\n",
    "data = featureFormat(data_dict, features_list )\n",
    "poi, finance_features = targetFeatureSplit( data )\n",
    "\n",
    "\n",
    "for f1, f2 in finance_features:\n",
    "    plt.scatter( f1, f2 )\n",
    "plt.show()"
   ]
  },
  {
   "cell_type": "markdown",
   "metadata": {},
   "source": [
    "#### Predict Two Clusters with K-Means"
   ]
  },
  {
   "cell_type": "code",
   "execution_count": 4,
   "metadata": {
    "collapsed": false
   },
   "outputs": [],
   "source": [
    "from sklearn.cluster import KMeans\n",
    "\n",
    "clust2 = KMeans(n_clusters=2)\n",
    "clust2.fit(finance_features)\n",
    "pred = clust2.predict(finance_features)"
   ]
  },
  {
   "cell_type": "code",
   "execution_count": 5,
   "metadata": {
    "collapsed": false
   },
   "outputs": [
    {
     "data": {
      "image/png": "[encoded data removed]",
      "text/plain": [
       "<matplotlib.figure.Figure at 0x111df8210>"
      ]
     },
     "metadata": {},
     "output_type": "display_data"
    }
   ],
   "source": [
    "Draw(pred, finance_features, poi, mark_poi=False, name=\"clusters.pdf\", f1_name=feature_1, f2_name=feature_2)"
   ]
  },
  {
   "cell_type": "markdown",
   "metadata": {},
   "source": [
    "Obviously something is not right here.  Let's retry with 3 clusters this time:\n",
    "\n",
    "#### Create Clusters Using Three Features"
   ]
  },
  {
   "cell_type": "code",
   "execution_count": 6,
   "metadata": {
    "collapsed": false
   },
   "outputs": [
    {
     "data": {
      "image/png": "[encoded data removed]",
      "text/plain": [
       "<matplotlib.figure.Figure at 0x10cdd64d0>"
      ]
     },
     "metadata": {},
     "output_type": "display_data"
    }
   ],
   "source": [
    "#include third feature in data\n",
    "feature_1 = 'salary'\n",
    "feature_2 = 'exercised_stock_options'\n",
    "feature_3 = 'total_payments'\n",
    "poi  = 'poi'\n",
    "features_list = [poi, feature_1, feature_2, feature_3]\n",
    "data = featureFormat(data_dict, features_list)\n",
    "poi, finance_features = targetFeatureSplit(data)\n",
    "\n",
    "\n",
    "for f1, f2, f3 in finance_features:\n",
    "    plt.scatter(f1, f2, f3)\n",
    "plt.show()"
   ]
  },
  {
   "cell_type": "markdown",
   "metadata": {},
   "source": [
    "##### Train with three features"
   ]
  },
  {
   "cell_type": "code",
   "execution_count": 7,
   "metadata": {
    "collapsed": true
   },
   "outputs": [],
   "source": [
    "clust3 = KMeans(n_clusters=2)\n",
    "clust3.fit(finance_features)\n",
    "pred3 = clust3.predict(finance_features)"
   ]
  },
  {
   "cell_type": "code",
   "execution_count": 8,
   "metadata": {
    "collapsed": false
   },
   "outputs": [
    {
     "data": {
      "image/png": "[encoded data removed]",
      "text/plain": [
       "<matplotlib.figure.Figure at 0x10cdc6590>"
      ]
     },
     "metadata": {},
     "output_type": "display_data"
    }
   ],
   "source": [
    "Draw(pred3, finance_features, poi, mark_poi=False, name=\"clusters3.pdf\", f1_name=feature_1, f2_name=feature_2)"
   ]
  },
  {
   "cell_type": "markdown",
   "metadata": {},
   "source": [
    "Even with a third feature the clustering is poor.\n",
    "\n",
    "### Sneak Peak for Data Scaling\n",
    "\n",
    "Find the max and min values in the 'exerised_stock_options' feature "
   ]
  },
  {
   "cell_type": "code",
   "execution_count": 9,
   "metadata": {
    "collapsed": false
   },
   "outputs": [
    {
     "name": "stdout",
     "output_type": "stream",
     "text": [
      "The max exercised option is:  34348384\n",
      "The min exercised option is:  3285\n"
     ]
    }
   ],
   "source": [
    "options = []\n",
    "\n",
    "for poi in data_dict:\n",
    "    if data_dict[poi]['exercised_stock_options'] != 'NaN':\n",
    "        options.append(data_dict[poi]['exercised_stock_options'])\n",
    "        \n",
    "print 'The max exercised option is: ', max(options)\n",
    "print 'The min exercised option is: ', min(options)"
   ]
  },
  {
   "cell_type": "markdown",
   "metadata": {},
   "source": [
    "Repeat for the 'salary' feature"
   ]
  },
  {
   "cell_type": "code",
   "execution_count": 10,
   "metadata": {
    "collapsed": false
   },
   "outputs": [
    {
     "name": "stdout",
     "output_type": "stream",
     "text": [
      "The max salary is:  1111258\n",
      "The min salary is:  477\n"
     ]
    }
   ],
   "source": [
    "sal = []\n",
    "\n",
    "for poi in data_dict:\n",
    "    if data_dict[poi]['salary'] != 'NaN':\n",
    "        sal.append(data_dict[poi]['salary'])\n",
    "        \n",
    "print 'The max salary is: ', max(sal)\n",
    "print 'The min salary is: ', min(sal)"
   ]
  }
 ],
 "metadata": {
  "anaconda-cloud": {},
  "kernelspec": {
   "display_name": "Python [py27]",
   "language": "python",
   "name": "Python [py27]"
  },
  "language_info": {
   "codemirror_mode": {
    "name": "ipython",
    "version": 2
   },
   "file_extension": ".py",
   "mimetype": "text/x-python",
   "name": "python",
   "nbconvert_exporter": "python",
   "pygments_lexer": "ipython2",
   "version": "2.7.12"
  }
 },
 "nbformat": 4,
 "nbformat_minor": 0
}
